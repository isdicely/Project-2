{
 "metadata": {
  "language_info": {
   "codemirror_mode": {
    "name": "ipython",
    "version": 3
   },
   "file_extension": ".py",
   "mimetype": "text/x-python",
   "name": "python",
   "nbconvert_exporter": "python",
   "pygments_lexer": "ipython3",
   "version": "3.8.5"
  },
  "orig_nbformat": 2,
  "kernelspec": {
   "name": "python385jvsc74a57bd062c9129753a97d27c3b5978295267ee6e80bed424ba4d51525390fc26af81ec8",
   "display_name": "Python 3.8.5 64-bit ('base': conda)"
  }
 },
 "nbformat": 4,
 "nbformat_minor": 2,
 "cells": [
  {
   "cell_type": "code",
   "execution_count": 1,
   "metadata": {},
   "outputs": [],
   "source": [
    "# Dependencies and Setup\n",
    "import matplotlib.pyplot as plt\n",
    "import pandas as pd\n",
    "import scipy.stats as st\n",
    "import numpy as np\n",
    "import random\n",
    "from scipy.stats import linregress"
   ]
  },
  {
   "cell_type": "code",
   "execution_count": 2,
   "metadata": {},
   "outputs": [],
   "source": [
    "# Retrieve data files\n",
    "happiness_2019_2020_file_path = \"../data/TOTAL_2019_2020_clean.csv\"\n",
    "\n",
    "# Read the data files\n",
    "happiness_2019_2020 = pd.read_csv(happiness_2019_2020_file_path)"
   ]
  },
  {
   "cell_type": "code",
   "execution_count": 3,
   "metadata": {},
   "outputs": [
    {
     "output_type": "stream",
     "name": "stdout",
     "text": [
      "         Country              Region  Year  Happiness Rank  Happiness Score  \\\n0        Finland      Western Europe  2019               1           7.8087   \n1        Denmark      Western Europe  2019               2           7.6456   \n2    Switzerland      Western Europe  2019               3           7.5599   \n3        Iceland      Western Europe  2019               4           7.5045   \n4         Norway      Western Europe  2019               5           7.4880   \n..           ...                 ...   ...             ...              ...   \n297      Lesotho  Sub-Saharan Africa  2020             145           3.5120   \n298     Botswana  Sub-Saharan Africa  2020             146           3.4650   \n299       Rwanda  Sub-Saharan Africa  2020             147           3.4150   \n300     Zimbabwe  Sub-Saharan Africa  2020             148           3.1450   \n301  Afghanistan          South Asia  2020             149           2.5230   \n\n     Dystopia Residual  GDP per capita  Social support  \\\n0               2.7628          1.2852          1.4995   \n1               2.4327          1.3269          1.5034   \n2               2.3503          1.3908          1.4724   \n3               2.4607          1.3265          1.5476   \n4               2.1683          1.4242          1.4952   \n..                 ...             ...             ...   \n297             1.8000          0.4510          0.7310   \n298             0.6480          1.0990          0.7240   \n299             1.0950          0.3640          0.2020   \n300             1.2050          0.4570          0.6490   \n301             1.8950          0.3700          0.0000   \n\n     Healthy life expectancy  Freedom to make life choices  Generosity  \\\n0                     0.9613                        0.6623      0.1597   \n1                     0.9793                        0.6650      0.2428   \n2                     1.0405                        0.6290      0.2691   \n3                     1.0008                        0.6620      0.3623   \n4                     1.0081                        0.6702      0.2880   \n..                       ...                           ...         ...   \n297                   0.0070                        0.4050      0.1030   \n298                   0.3400                        0.5390      0.0270   \n299                   0.4070                        0.6270      0.2270   \n300                   0.2430                        0.3590      0.1570   \n301                   0.1260                        0.0000      0.1220   \n\n     Perceptions of corruption  \n0                       0.4779  \n1                       0.4953  \n2                       0.4079  \n3                       0.1445  \n4                       0.4341  \n..                         ...  \n297                     0.0150  \n298                     0.0880  \n299                     0.4930  \n300                     0.0750  \n301                     0.0100  \n\n[302 rows x 12 columns]\n"
     ]
    }
   ],
   "source": [
    "# Create two data frames for each file\n",
    "happiness_df = pd.DataFrame(happiness_2019_2020)\n",
    "print(happiness_df)\n"
   ]
  },
  {
   "cell_type": "code",
   "execution_count": 4,
   "metadata": {},
   "outputs": [
    {
     "output_type": "execute_result",
     "data": {
      "text/plain": [
       "   Happiness Score  Dystopia Residual  GDP per capita  Social support  \\\n",
       "0           7.8087             2.7628          1.2852          1.4995   \n",
       "1           7.6456             2.4327          1.3269          1.5034   \n",
       "2           7.5599             2.3503          1.3908          1.4724   \n",
       "3           7.5045             2.4607          1.3265          1.5476   \n",
       "4           7.4880             2.1683          1.4242          1.4952   \n",
       "\n",
       "   Healthy life expectancy  Freedom to make life choices  Generosity  \\\n",
       "0                   0.9613                        0.6623      0.1597   \n",
       "1                   0.9793                        0.6650      0.2428   \n",
       "2                   1.0405                        0.6290      0.2691   \n",
       "3                   1.0008                        0.6620      0.3623   \n",
       "4                   1.0081                        0.6702      0.2880   \n",
       "\n",
       "   Perceptions of corruption  \n",
       "0                     0.4779  \n",
       "1                     0.4953  \n",
       "2                     0.4079  \n",
       "3                     0.1445  \n",
       "4                     0.4341  "
      ],
      "text/html": "<div>\n<style scoped>\n    .dataframe tbody tr th:only-of-type {\n        vertical-align: middle;\n    }\n\n    .dataframe tbody tr th {\n        vertical-align: top;\n    }\n\n    .dataframe thead th {\n        text-align: right;\n    }\n</style>\n<table border=\"1\" class=\"dataframe\">\n  <thead>\n    <tr style=\"text-align: right;\">\n      <th></th>\n      <th>Happiness Score</th>\n      <th>Dystopia Residual</th>\n      <th>GDP per capita</th>\n      <th>Social support</th>\n      <th>Healthy life expectancy</th>\n      <th>Freedom to make life choices</th>\n      <th>Generosity</th>\n      <th>Perceptions of corruption</th>\n    </tr>\n  </thead>\n  <tbody>\n    <tr>\n      <th>0</th>\n      <td>7.8087</td>\n      <td>2.7628</td>\n      <td>1.2852</td>\n      <td>1.4995</td>\n      <td>0.9613</td>\n      <td>0.6623</td>\n      <td>0.1597</td>\n      <td>0.4779</td>\n    </tr>\n    <tr>\n      <th>1</th>\n      <td>7.6456</td>\n      <td>2.4327</td>\n      <td>1.3269</td>\n      <td>1.5034</td>\n      <td>0.9793</td>\n      <td>0.6650</td>\n      <td>0.2428</td>\n      <td>0.4953</td>\n    </tr>\n    <tr>\n      <th>2</th>\n      <td>7.5599</td>\n      <td>2.3503</td>\n      <td>1.3908</td>\n      <td>1.4724</td>\n      <td>1.0405</td>\n      <td>0.6290</td>\n      <td>0.2691</td>\n      <td>0.4079</td>\n    </tr>\n    <tr>\n      <th>3</th>\n      <td>7.5045</td>\n      <td>2.4607</td>\n      <td>1.3265</td>\n      <td>1.5476</td>\n      <td>1.0008</td>\n      <td>0.6620</td>\n      <td>0.3623</td>\n      <td>0.1445</td>\n    </tr>\n    <tr>\n      <th>4</th>\n      <td>7.4880</td>\n      <td>2.1683</td>\n      <td>1.4242</td>\n      <td>1.4952</td>\n      <td>1.0081</td>\n      <td>0.6702</td>\n      <td>0.2880</td>\n      <td>0.4341</td>\n    </tr>\n  </tbody>\n</table>\n</div>"
     },
     "metadata": {},
     "execution_count": 4
    }
   ],
   "source": [
    "# Remove extra columns\n",
    "data_df = happiness_df.drop([\"Country\", \"Region\", \"Year\", \"Happiness Rank\"], axis= 1)\n",
    "data_df.head()"
   ]
  },
  {
   "cell_type": "code",
   "execution_count": 5,
   "metadata": {},
   "outputs": [
    {
     "output_type": "stream",
     "name": "stdout",
     "text": [
      "['Dystopia Residual', 'GDP per capita', 'Social support', 'Healthy life expectancy', 'Freedom to make life choices', 'Generosity', 'Perceptions of corruption']\n"
     ]
    }
   ],
   "source": [
    "column_names= []\n",
    "for col in data_df.columns:\n",
    "    column_names.append(col)\n",
    "column_names.remove(\"Happiness Score\")\n",
    "print(column_names)"
   ]
  },
  {
   "cell_type": "code",
   "execution_count": null,
   "metadata": {},
   "outputs": [],
   "source": [
    "#Scatter plots for happiness score correlation\n",
    "for type in column_names:\n",
    "    # Set figure size\n",
    "    plt.figure(figsize= (18,10))\n",
    "    # Make scatter plot\n",
    "    plt.scatter(data_df[\"Happiness Score\"], data_df[type])\n",
    "    # Set title\n",
    "    plt.title (f\"Relationship between Happiness Score and {type}\", fontsize=20)\n",
    "    # Set x-axis label\n",
    "    plt.xlabel(\"Happiness Score\", fontsize= 16)\n",
    "    # Set y-axis label\n",
    "    plt.ylabel(type, fontsize= 16)\n",
    "    # Add grid to plot\n",
    "    plt.grid(color= \"gray\", linestyle= \"--\", linewidth= 0.5)\n",
    "    #Set text to be added with plt.figtext\n",
    "    txt= (f\"Relationship between [Happiness Score] and [{type}] in 2019 and 2020.\")\n",
    "    plt.figtext(0.5, 0.01, txt, wrap=True, horizontalalignment= 'center', fontsize= 14)\n",
    "    # Save figure\n",
    "    plt.savefig(f\"outputs/{type}_scatter.png\", dpi= 600, transparent= False)\n",
    "    # Display plot\n",
    "    plt.show()\n"
   ]
  },
  {
   "cell_type": "code",
   "execution_count": null,
   "metadata": {},
   "outputs": [],
   "source": [
    "# Regression evaluation\n",
    "for type in column_names:\n",
    "    (slope, intercept, rvalue, pvalue, stderr) = linregress(data_df[\"Happiness Score\"], data_df[type])\n",
    "    regress_values = data_df[\"Happiness Score\"] * slope + intercept\n",
    "    line_equation = (f\"y= {str(round(slope,2))}x + {str(round(intercept,2))}\")\n",
    "    # Set fig, ax to encompass plot\n",
    "    fig, ax= plt.subplots(figsize= (20,10))\n",
    "    # Make scatter plot\n",
    "    ax.scatter(data_df[\"Happiness Score\"], data_df[type])\n",
    "    # Set x-axis label\n",
    "    ax.set_xlabel(\"Happiness Score\")\n",
    "    # Set y-axis label\n",
    "    ax.set_ylabel(type)\n",
    "    # Set title of plot\n",
    "    ax.set_title(f\"Relationship between Happiness Score and Score {type}\", fontsize=20)\n",
    "    #  Set x-axis label\n",
    "    ax.set_xlabel(\"Happiness Score\", fontsize= 20)\n",
    "    # Set y-axis label\n",
    "    ax.set_ylabel(type, fontsize= 20)\n",
    "    # Add a grid to the plot and style\n",
    "    ax.grid()\n",
    "    plt.grid(color= \"gray\", linestyle=\"--\", linewidth= 0.5)\n",
    "    # Add regression line to the scatter plot\n",
    "    ax.plot(data_df[\"Happiness Score\"], regress_values, \"r-\")\n",
    "    # Display the line equation and r-squared on plot\n",
    "    ax.text(0.1,0.925, (f\"{line_equation} \\n r-squared= {round(rvalue**2,2)}    \"), horizontalalignment='center',verticalalignment='center', transform = ax.transAxes,  fontsize=14, fontweight='bold')\n",
    "    # Set texts to be displayed in teh figtext\n",
    "    txt_1= (f\"Correlation between Happiness Score and Score {type} from 2019-2020 surveys.\")\n",
    "    txt_2= (\"\\n For Social Science: High association: r-squared greater than 0.67 | Moderate predictive association: r-squared between 0.33 and 0.67 \\n Low asssociation: r-squared between 0.19 and 0.33 | No association: r-squared below 0.19\")\n",
    "    plt.figtext(0.5, 0.01, txt_1, wrap=True, horizontalalignment='center', fontsize=16)\n",
    "    plt.figtext(0.5, -0.05, txt_2, wrap=True, fontsize=12, va=\"bottom\", ha=\"center\")\n",
    "    # Save the figure\n",
    "    plt.savefig(f\"outputs/{type}_regression.png\", dpi= 600, transparent= False)\n",
    "    # Display the figure\n",
    "    plt.show()\n"
   ]
  },
  {
   "cell_type": "code",
   "execution_count": null,
   "metadata": {},
   "outputs": [],
   "source": [
    "# happiness_df"
   ]
  },
  {
   "cell_type": "code",
   "execution_count": null,
   "metadata": {},
   "outputs": [],
   "source": [
    "# happiness_2019_df= happiness_df[happiness_df['Year'] == 2019]"
   ]
  },
  {
   "cell_type": "code",
   "execution_count": null,
   "metadata": {},
   "outputs": [],
   "source": [
    "# happiness_2020_df= happiness_df[happiness_df['Year'] == 2020]+\n"
   ]
  },
  {
   "cell_type": "code",
   "execution_count": null,
   "metadata": {},
   "outputs": [],
   "source": [
    "# print(data_2019_df.index)\n",
    "# print(data_2020_df.index)"
   ]
  },
  {
   "cell_type": "code",
   "execution_count": null,
   "metadata": {},
   "outputs": [],
   "source": [
    "# countries_2019 = happiness_2019_df['Country'].tolist()\n",
    "# countries_2019\n",
    "# countries_2020 = happiness_2020_df['Country'].tolist()\n",
    "# countries_2020\n",
    "\n",
    "# drop_countries = []\n",
    "# for country in countries_2020:\n",
    "#     if country not in countries_2020:\n",
    "#         drop_countries.append(country)\n",
    "# drop_countries"
   ]
  },
  {
   "cell_type": "code",
   "execution_count": null,
   "metadata": {},
   "outputs": [],
   "source": [
    "# delta_data_df = data_2020_df.subtract(data_2019_df)\n",
    "# delta_data_df"
   ]
  },
  {
   "cell_type": "code",
   "execution_count": null,
   "metadata": {},
   "outputs": [],
   "source": [
    "\n",
    "# data_2019_df = happiness_2019_df.drop([\"Country\", \"Region\", \"Year\", \"Happiness Rank\"], axis= 1)\n",
    "# data_2019_df.head()\n",
    "\n",
    "# data_2020_df = happiness_2020_df.drop([\"Country\", \"Region\", \"Year\", \"Happiness Rank\"], axis= 1)\n",
    "# data_2020_df.head()\n"
   ]
  }
 ]
}