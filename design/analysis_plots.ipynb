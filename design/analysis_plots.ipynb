{
 "metadata": {
  "language_info": {
   "codemirror_mode": {
    "name": "ipython",
    "version": 3
   },
   "file_extension": ".py",
   "mimetype": "text/x-python",
   "name": "python",
   "nbconvert_exporter": "python",
   "pygments_lexer": "ipython3",
   "version": "3.8.5"
  },
  "orig_nbformat": 2,
  "kernelspec": {
   "name": "python385jvsc74a57bd062c9129753a97d27c3b5978295267ee6e80bed424ba4d51525390fc26af81ec8",
   "display_name": "Python 3.8.5 64-bit ('base': conda)"
  }
 },
 "nbformat": 4,
 "nbformat_minor": 2,
 "cells": [
  {
   "cell_type": "code",
   "execution_count": null,
   "metadata": {},
   "outputs": [],
   "source": [
    "# Dependencies and Setup\n",
    "import matplotlib.pyplot as plt\n",
    "import pandas as pd\n",
    "import scipy.stats as st\n",
    "import numpy as np\n",
    "import random\n",
    "from scipy.stats import linregress"
   ]
  },
  {
   "cell_type": "code",
   "execution_count": null,
   "metadata": {},
   "outputs": [],
   "source": [
    "# Retrieve data files\n",
    "happiness_2019_2020_file_path = \"../data/TOTAL_2019_2020_clean.csv\"\n",
    "\n",
    "# Read the data files\n",
    "happiness_2019_2020 = pd.read_csv(happiness_2019_2020_file_path)"
   ]
  },
  {
   "cell_type": "code",
   "execution_count": null,
   "metadata": {},
   "outputs": [],
   "source": [
    "# Create two data frames for each file\n",
    "happiness_df = pd.DataFrame(happiness_2019_2020)\n",
    "print(happiness_df)\n"
   ]
  },
  {
   "cell_type": "code",
   "execution_count": null,
   "metadata": {},
   "outputs": [],
   "source": [
    "# Remove extra columns\n",
    "data_df = happiness_df.drop([\"Country\", \"Region\", \"Year\", \"Happiness Rank\"], axis= 1)\n",
    "data_df.head()"
   ]
  },
  {
   "cell_type": "code",
   "execution_count": null,
   "metadata": {},
   "outputs": [],
   "source": [
    "column_names= []\n",
    "for col in data_df.columns:\n",
    "    column_names.append(col)\n",
    "column_names.remove(\"Happiness Score\")\n",
    "print(column_names)"
   ]
  },
  {
   "cell_type": "code",
   "execution_count": null,
   "metadata": {},
   "outputs": [],
   "source": [
    "#Scatter plots for happiness score correlation\n",
    "for type in column_names:\n",
    "    # Set figure size\n",
    "    plt.figure(figsize= (18,10))\n",
    "    # Make scatter plot\n",
    "    plt.scatter(data_df[\"Happiness Score\"], data_df[type])\n",
    "    # Set title\n",
    "    plt.title (f\"Relationship between Happiness Score and Score {type}\", fontsize=20)\n",
    "    # Set x-axis label\n",
    "    plt.xlabel(\"Happiness Score\", fontsize= 16)\n",
    "    # Set y-axis label\n",
    "    plt.ylabel(type, fontsize= 16)\n",
    "    # Add grid to plot\n",
    "    plt.grid(color= \"gray\", linestyle= \"--\", linewidth= 0.5)\n",
    "    #Set text to be added with plt.figtext\n",
    "    txt= (f\"Relationship between [Happiness Score] and [{type}] in 2019 and 2020.\")\n",
    "    plt.figtext(0.5, 0.01, txt, wrap=True, horizontalalignment= 'center', fontsize= 14)\n",
    "    # Save figure\n",
    "    plt.savefig(f\"outputs/{type}_scatter.png\", dpi= 600, transparent= False)\n",
    "    # Display plot\n",
    "    plt.show()\n"
   ]
  },
  {
   "cell_type": "code",
   "execution_count": null,
   "metadata": {},
   "outputs": [],
   "source": [
    "# Regression evaluation\n",
    "for type in column_names:\n",
    "    (slope, intercept, rvalue, pvalue, stderr) = linregress(data_df[\"Happiness Score\"], data_df[type])\n",
    "    regress_values = data_df[\"Happiness Score\"] * slope + intercept\n",
    "    line_equation = (f\"y= {str(round(slope,2))}x + {str(round(intercept,2))}\")\n",
    "    # Set fig, ax to encompass plot\n",
    "    fig, ax= plt.subplots(figsize= (20,10))\n",
    "    # Make scatter plot\n",
    "    ax.scatter(data_df[\"Happiness Score\"], data_df[type])\n",
    "    # Set x-axis label\n",
    "    ax.set_xlabel(\"Happiness Score\")\n",
    "    # Set y-axis label\n",
    "    ax.set_ylabel(type)\n",
    "    # Set title of plot\n",
    "    ax.set_title(f\"Relationship between Happiness Score and Score {type}\", fontsize=20)\n",
    "    #  Set x-axis label\n",
    "    ax.set_xlabel(\"Happiness Score\", fontsize= 20)\n",
    "    # Set y-axis label\n",
    "    ax.set_ylabel(type, fontsize= 20)\n",
    "    # Add a grid to the plot and style\n",
    "    ax.grid()\n",
    "    plt.grid(color= \"gray\", linestyle=\"--\", linewidth= 0.5)\n",
    "    # Add regression line to the scatter plot\n",
    "    ax.plot(data_df[\"Happiness Score\"], regress_values, \"r-\")\n",
    "    # Display the line equation and r-squared on plot\n",
    "    ax.text(0.1,0.925, (f\"{line_equation} \\n r-squared= {round(rvalue**2,2)}    \"), horizontalalignment='center',verticalalignment='center', transform = ax.transAxes,  fontsize=14, fontweight='bold')\n",
    "    # Set texts to be displayed in teh figtext\n",
    "    txt_1= (f\"Correlation between Happiness Score and Score {type} from 2019-2020 surveys.\")\n",
    "    txt_2= (\"\\n For Social Science: High association: r-squared greater than 0.67 | Moderate predictive association: r-squared between 0.33 and 0.67 \\n Low asssociation: r-squared between 0.19 and 0.33 | No association: r-squared below 0.19\")\n",
    "    plt.figtext(0.5, 0.01, txt_1, wrap=True, horizontalalignment='center', fontsize=16)\n",
    "    plt.figtext(0.5, -0.05, txt_2, wrap=True, fontsize=12, va=\"bottom\", ha=\"center\")\n",
    "    # Save the figure\n",
    "    plt.savefig(f\"outputs/{type}_regression.png\", dpi= 600, transparent= False)\n",
    "    # Display the figure\n",
    "    plt.show()\n"
   ]
  },
  {
   "cell_type": "code",
   "execution_count": null,
   "metadata": {},
   "outputs": [],
   "source": [
    "happiness_df"
   ]
  },
  {
   "cell_type": "code",
   "execution_count": null,
   "metadata": {},
   "outputs": [],
   "source": [
    "happiness_2019_df= happiness_df[happiness_df['Year'] == 2019]"
   ]
  },
  {
   "cell_type": "code",
   "execution_count": null,
   "metadata": {},
   "outputs": [],
   "source": [
    "happiness_2020_df= happiness_df[happiness_df['Year'] == 2020]+\n"
   ]
  },
  {
   "cell_type": "code",
   "execution_count": null,
   "metadata": {},
   "outputs": [],
   "source": [
    "print(data_2019_df.index)\n",
    "print(data_2020_df.index)"
   ]
  },
  {
   "cell_type": "code",
   "execution_count": null,
   "metadata": {},
   "outputs": [],
   "source": [
    "countries_2019 = happiness_2019_df['Country'].tolist()\n",
    "countries_2019\n",
    "countries_2020 = happiness_2020_df['Country'].tolist()\n",
    "countries_2020\n",
    "\n",
    "drop_countries = []\n",
    "for country in countries_2020:\n",
    "    if country not in countries_2020:\n",
    "        drop_countries.append(country)\n",
    "drop_countries"
   ]
  },
  {
   "cell_type": "code",
   "execution_count": null,
   "metadata": {},
   "outputs": [],
   "source": [
    "delta_data_df = data_2020_df.subtract(data_2019_df)\n",
    "delta_data_df"
   ]
  },
  {
   "cell_type": "code",
   "execution_count": null,
   "metadata": {},
   "outputs": [],
   "source": [
    "\n",
    "data_2019_df = happiness_2019_df.drop([\"Country\", \"Region\", \"Year\", \"Happiness Rank\"], axis= 1)\n",
    "data_2019_df.head()\n",
    "\n",
    "data_2020_df = happiness_2020_df.drop([\"Country\", \"Region\", \"Year\", \"Happiness Rank\"], axis= 1)\n",
    "data_2020_df.head()\n"
   ]
  }
 ]
}